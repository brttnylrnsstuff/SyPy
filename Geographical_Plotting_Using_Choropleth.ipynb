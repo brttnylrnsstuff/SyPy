{
 "cells": [
  {
   "cell_type": "markdown",
   "metadata": {},
   "source": [
    "### Coropleth Maps"
   ]
  },
  {
   "cell_type": "raw",
   "metadata": {},
   "source": [
    "It uses plotly"
   ]
  },
  {
   "cell_type": "code",
   "execution_count": 22,
   "metadata": {},
   "outputs": [],
   "source": [
    "import plotly.plotly as py\n",
    "import plotly.graph_objs as go"
   ]
  },
  {
   "cell_type": "code",
   "execution_count": 23,
   "metadata": {},
   "outputs": [],
   "source": [
    "from plotly.offline import download_plotlyjs"
   ]
  },
  {
   "cell_type": "code",
   "execution_count": 24,
   "metadata": {},
   "outputs": [],
   "source": [
    "from plotly.offline import init_notebook_mode, plot, iplot"
   ]
  },
  {
   "cell_type": "code",
   "execution_count": 25,
   "metadata": {},
   "outputs": [
    {
     "data": {
      "text/html": [
       "<script>requirejs.config({paths: { 'plotly': ['https://cdn.plot.ly/plotly-latest.min']},});if(!window.Plotly) {{require(['plotly'],function(plotly) {window.Plotly=plotly;});}}</script>"
      ],
      "text/vnd.plotly.v1+html": [
       "<script>requirejs.config({paths: { 'plotly': ['https://cdn.plot.ly/plotly-latest.min']},});if(!window.Plotly) {{require(['plotly'],function(plotly) {window.Plotly=plotly;});}}</script>"
      ]
     },
     "metadata": {},
     "output_type": "display_data"
    }
   ],
   "source": [
    "init_notebook_mode(connected = True)"
   ]
  },
  {
   "cell_type": "code",
   "execution_count": 36,
   "metadata": {},
   "outputs": [],
   "source": [
    "data = dict(type='choropleth',\n",
    "           locations=['AZ', 'CA', 'NY'],\n",
    "            locationmode = 'USA-states',\n",
    "            colorscale='Greens',\n",
    "            text=['text1', 'text2', 'text3'],\n",
    "            z=[1.0,2.0,3.0],\n",
    "            colorbar={\"title\":\"Colour bar title\"}\n",
    "           )\n"
   ]
  },
  {
   "cell_type": "code",
   "execution_count": 37,
   "metadata": {},
   "outputs": [],
   "source": [
    "layout = dict(geo={'scope':'usa'})"
   ]
  },
  {
   "cell_type": "code",
   "execution_count": 38,
   "metadata": {},
   "outputs": [],
   "source": [
    "choromap = go.Figure(data=[data], layout=layout)"
   ]
  },
  {
   "cell_type": "code",
   "execution_count": 40,
   "metadata": {},
   "outputs": [
    {
     "data": {
      "application/vnd.plotly.v1+json": {
       "data": [
        {
         "colorbar": {
          "title": "Colour bar title"
         },
         "colorscale": "Greens",
         "locationmode": "USA-states",
         "locations": [
          "AZ",
          "CA",
          "NY"
         ],
         "text": [
          "text1",
          "text2",
          "text3"
         ],
         "type": "choropleth",
         "z": [
          1,
          2,
          3
         ]
        }
       ],
       "layout": {
        "geo": {
         "scope": "usa"
        }
       }
      },
      "text/html": [
       "<div id=\"c07cae77-f150-44dd-a055-dd6624aeb3e8\" style=\"height: 525px; width: 100%;\" class=\"plotly-graph-div\"></div><script type=\"text/javascript\">require([\"plotly\"], function(Plotly) { window.PLOTLYENV=window.PLOTLYENV || {};window.PLOTLYENV.BASE_URL=\"https://plot.ly\";Plotly.newPlot(\"c07cae77-f150-44dd-a055-dd6624aeb3e8\", [{\"type\": \"choropleth\", \"locations\": [\"AZ\", \"CA\", \"NY\"], \"locationmode\": \"USA-states\", \"colorscale\": \"Greens\", \"text\": [\"text1\", \"text2\", \"text3\"], \"z\": [1.0, 2.0, 3.0], \"colorbar\": {\"title\": \"Colour bar title\"}}], {\"geo\": {\"scope\": \"usa\"}}, {\"showLink\": true, \"linkText\": \"Export to plot.ly\"})});</script>"
      ],
      "text/vnd.plotly.v1+html": [
       "<div id=\"c07cae77-f150-44dd-a055-dd6624aeb3e8\" style=\"height: 525px; width: 100%;\" class=\"plotly-graph-div\"></div><script type=\"text/javascript\">require([\"plotly\"], function(Plotly) { window.PLOTLYENV=window.PLOTLYENV || {};window.PLOTLYENV.BASE_URL=\"https://plot.ly\";Plotly.newPlot(\"c07cae77-f150-44dd-a055-dd6624aeb3e8\", [{\"type\": \"choropleth\", \"locations\": [\"AZ\", \"CA\", \"NY\"], \"locationmode\": \"USA-states\", \"colorscale\": \"Greens\", \"text\": [\"text1\", \"text2\", \"text3\"], \"z\": [1.0, 2.0, 3.0], \"colorbar\": {\"title\": \"Colour bar title\"}}], {\"geo\": {\"scope\": \"usa\"}}, {\"showLink\": true, \"linkText\": \"Export to plot.ly\"})});</script>"
      ]
     },
     "metadata": {},
     "output_type": "display_data"
    }
   ],
   "source": [
    "iplot(choromap)"
   ]
  },
  {
   "cell_type": "code",
   "execution_count": 41,
   "metadata": {},
   "outputs": [
    {
     "data": {
      "text/plain": [
       "'file://C:\\\\Users\\\\ms47807\\\\SyPy\\\\temp-plot.html'"
      ]
     },
     "execution_count": 41,
     "metadata": {},
     "output_type": "execute_result"
    }
   ],
   "source": [
    "plot(choromap)"
   ]
  },
  {
   "cell_type": "code",
   "execution_count": 42,
   "metadata": {},
   "outputs": [],
   "source": [
    "import pandas as pd\n",
    "\n",
    "df = pd.read_csv"
   ]
  },
  {
   "cell_type": "code",
   "execution_count": 56,
   "metadata": {},
   "outputs": [],
   "source": [
    "data = dict(type='choropleth',\n",
    "           locations=['AZ', 'CA', 'NY'],\n",
    "            locationmode = 'USA-states',\n",
    "            colorscale='fire',\n",
    "            text=['text1', 'text2', 'text3'],\n",
    "            z=[1.0,2.0,3.0],\n",
    "            colorbar={\"title\":\"Colour bar title\"},\n",
    "            marker = dict(line = dict(color='rgb(255, 255, 255)', width=2))\n",
    "           )\n",
    "layout = dict(title='My Geo Map Plotting'\n",
    "              , geo = dict(scope='usa', showlakes=True, lakecolor='rgb(25, 173, 240)'))\n",
    "\n"
   ]
  },
  {
   "cell_type": "code",
   "execution_count": 58,
   "metadata": {},
   "outputs": [
    {
     "data": {
      "application/vnd.plotly.v1+json": {
       "data": [
        {
         "colorbar": {
          "title": "Colour bar title"
         },
         "colorscale": "fire",
         "locationmode": "USA-states",
         "locations": [
          "AZ",
          "CA",
          "NY"
         ],
         "marker": {
          "line": {
           "color": "rgb(255, 255, 255)",
           "width": 2
          }
         },
         "text": [
          "text1",
          "text2",
          "text3"
         ],
         "type": "choropleth",
         "z": [
          1,
          2,
          3
         ]
        }
       ],
       "layout": {
        "geo": {
         "lakecolor": "rgb(25, 173, 240)",
         "scope": "usa",
         "showlakes": true
        },
        "title": "My Geo Map Plotting"
       }
      },
      "text/html": [
       "<div id=\"888f5e5f-fff6-4301-9729-ad7d1cda75f5\" style=\"height: 525px; width: 100%;\" class=\"plotly-graph-div\"></div><script type=\"text/javascript\">require([\"plotly\"], function(Plotly) { window.PLOTLYENV=window.PLOTLYENV || {};window.PLOTLYENV.BASE_URL=\"https://plot.ly\";Plotly.newPlot(\"888f5e5f-fff6-4301-9729-ad7d1cda75f5\", [{\"type\": \"choropleth\", \"locations\": [\"AZ\", \"CA\", \"NY\"], \"locationmode\": \"USA-states\", \"colorscale\": \"fire\", \"text\": [\"text1\", \"text2\", \"text3\"], \"z\": [1.0, 2.0, 3.0], \"colorbar\": {\"title\": \"Colour bar title\"}, \"marker\": {\"line\": {\"color\": \"rgb(255, 255, 255)\", \"width\": 2}}}], {\"title\": \"My Geo Map Plotting\", \"geo\": {\"scope\": \"usa\", \"showlakes\": true, \"lakecolor\": \"rgb(25, 173, 240)\"}}, {\"showLink\": true, \"linkText\": \"Export to plot.ly\"})});</script>"
      ],
      "text/vnd.plotly.v1+html": [
       "<div id=\"888f5e5f-fff6-4301-9729-ad7d1cda75f5\" style=\"height: 525px; width: 100%;\" class=\"plotly-graph-div\"></div><script type=\"text/javascript\">require([\"plotly\"], function(Plotly) { window.PLOTLYENV=window.PLOTLYENV || {};window.PLOTLYENV.BASE_URL=\"https://plot.ly\";Plotly.newPlot(\"888f5e5f-fff6-4301-9729-ad7d1cda75f5\", [{\"type\": \"choropleth\", \"locations\": [\"AZ\", \"CA\", \"NY\"], \"locationmode\": \"USA-states\", \"colorscale\": \"fire\", \"text\": [\"text1\", \"text2\", \"text3\"], \"z\": [1.0, 2.0, 3.0], \"colorbar\": {\"title\": \"Colour bar title\"}, \"marker\": {\"line\": {\"color\": \"rgb(255, 255, 255)\", \"width\": 2}}}], {\"title\": \"My Geo Map Plotting\", \"geo\": {\"scope\": \"usa\", \"showlakes\": true, \"lakecolor\": \"rgb(25, 173, 240)\"}}, {\"showLink\": true, \"linkText\": \"Export to plot.ly\"})});</script>"
      ]
     },
     "metadata": {},
     "output_type": "display_data"
    }
   ],
   "source": [
    "choromap = go.Figure(data=[data], layout=layout)\n",
    "iplot(choromap)"
   ]
  },
  {
   "cell_type": "markdown",
   "metadata": {},
   "source": [
    "### Global Choropleth"
   ]
  },
  {
   "cell_type": "code",
   "execution_count": 65,
   "metadata": {},
   "outputs": [],
   "source": [
    "df = pd.read_csv(\"new 4.txt\")"
   ]
  },
  {
   "cell_type": "code",
   "execution_count": 67,
   "metadata": {},
   "outputs": [
    {
     "data": {
      "text/html": [
       "<div>\n",
       "<style>\n",
       "    .dataframe thead tr:only-child th {\n",
       "        text-align: right;\n",
       "    }\n",
       "\n",
       "    .dataframe thead th {\n",
       "        text-align: left;\n",
       "    }\n",
       "\n",
       "    .dataframe tbody tr th {\n",
       "        vertical-align: top;\n",
       "    }\n",
       "</style>\n",
       "<table border=\"1\" class=\"dataframe\">\n",
       "  <thead>\n",
       "    <tr style=\"text-align: right;\">\n",
       "      <th></th>\n",
       "      <th>USA</th>\n",
       "      <th>1</th>\n",
       "      <th>United States</th>\n",
       "    </tr>\n",
       "  </thead>\n",
       "  <tbody>\n",
       "    <tr>\n",
       "      <th>0</th>\n",
       "      <td>CHN</td>\n",
       "      <td>2</td>\n",
       "      <td>China</td>\n",
       "    </tr>\n",
       "    <tr>\n",
       "      <th>1</th>\n",
       "      <td>JPN</td>\n",
       "      <td>3</td>\n",
       "      <td>Japan</td>\n",
       "    </tr>\n",
       "    <tr>\n",
       "      <th>2</th>\n",
       "      <td>DEU</td>\n",
       "      <td>4</td>\n",
       "      <td>Germany</td>\n",
       "    </tr>\n",
       "    <tr>\n",
       "      <th>3</th>\n",
       "      <td>GBR</td>\n",
       "      <td>5</td>\n",
       "      <td>United Kingdom</td>\n",
       "    </tr>\n",
       "    <tr>\n",
       "      <th>4</th>\n",
       "      <td>FRA</td>\n",
       "      <td>6</td>\n",
       "      <td>France</td>\n",
       "    </tr>\n",
       "  </tbody>\n",
       "</table>\n",
       "</div>"
      ],
      "text/plain": [
       "   USA  1   United States\n",
       "0  CHN  2           China\n",
       "1  JPN  3           Japan\n",
       "2  DEU  4         Germany\n",
       "3  GBR  5  United Kingdom\n",
       "4  FRA  6          France"
      ]
     },
     "execution_count": 67,
     "metadata": {},
     "output_type": "execute_result"
    }
   ],
   "source": [
    "df.head()"
   ]
  },
  {
   "cell_type": "code",
   "execution_count": 91,
   "metadata": {},
   "outputs": [],
   "source": [
    "data = dict(type='choropleth',\n",
    "           locations=df['USA'],\n",
    "            locationmode = 'world map',\n",
    "            colorscale='Viridis',\n",
    "            text=df['United States'],\n",
    "            z=df['1'],\n",
    "            colorbar={\"title\":\"World GDP\"},\n",
    "            marker = dict(line = dict(color='rgb(255, 255, 255)', width=2))\n",
    "           )\n",
    "layout = dict(title='World GDP' \n",
    "              , geo = dict(scope='world', showlakes=True, lakecolor='rgb(25, 173, 240)'))\n",
    "\n"
   ]
  },
  {
   "cell_type": "code",
   "execution_count": 92,
   "metadata": {},
   "outputs": [
    {
     "data": {
      "application/vnd.plotly.v1+json": {
       "data": [
        {
         "colorbar": {
          "title": "World GDP"
         },
         "colorscale": "Viridis",
         "locationmode": "world map",
         "locations": [
          "CHN",
          "JPN",
          "DEU",
          "GBR",
          "FRA",
          "IND",
          "ITA",
          "BRA",
          "CAN",
          "KOR",
          "RUS",
          "ESP",
          "AUS",
          "MEX",
          "IDN",
          "TUR",
          "NLD",
          "CHE",
          "SAU",
          "ARG",
          "SWE",
          "POL",
          "BEL",
          "THA",
          "NGA",
          "IRN",
          "AUT",
          "NOR",
          "ARE",
          "EGY",
          "HKG",
          "ISR",
          "DNK",
          "PHL",
          "SGP",
          "MYS",
          "ZAF",
          "IRL",
          "PAK",
          "COL",
          "CHL",
          "FIN",
          "BGD",
          "PRT",
          "VNM",
          "GRC",
          "CZE",
          "PER",
          "ROU",
          "NZL",
          "IRQ",
          "DZA",
          "QAT",
          "KAZ",
          "HUN",
          "KWT",
          "MAR",
          "ECU",
          "SDN",
          "UKR",
          "AGO",
          "SVK",
          "CUB",
          "LKA",
          "ETH",
          "DOM",
          "KEN",
          "GTM",
          "MMR",
          "UZB",
          "OMN",
          "LUX",
          "CRI",
          "PAN",
          "URY",
          "BGR",
          "HRV",
          "LBN",
          "BLR",
          "TZA",
          "MAC",
          "SVN",
          "LTU",
          "GHA",
          "TUN",
          "JOR",
          "AZE",
          "SRB",
          "TKM",
          "CIV",
          "COD",
          "BOL",
          "BHR",
          "LVA",
          "PRY",
          "YEM",
          "SLV",
          "UGA",
          "CMR",
          "EST",
          "HND",
          "NPL",
          "TTO",
          "ISL",
          "KHM",
          "CYP",
          "ZMB",
          "AFG",
          "PNG",
          "BIH",
          "ZWE",
          "LAO",
          "BWA",
          "SEN",
          "GEO",
          "GAB",
          "MLI",
          "JAM",
          "PSE",
          "NIC",
          "MUS",
          "BFA",
          "ALB",
          "BRN",
          "MNG",
          "MOZ",
          "MLT",
          "MKD",
          "ARM",
          "NAM",
          "GNQ",
          "MDG",
          "TCD",
          "BHS",
          "SSD",
          "BEN",
          "RWA",
          "HTI",
          "COG",
          "NER",
          "IMN",
          "TJK",
          "MDA",
          "LIE",
          "XKX",
          "KGZ",
          "GIN",
          "SOM",
          "GUM",
          "MWI",
          "MRT",
          "FJI",
          "BRB",
          "TGO",
          "MNE",
          "VIR",
          "SWZ",
          "SLE",
          "SUR",
          "MDV",
          "GUY",
          "BDI",
          "BTN",
          "GRL",
          "LSO",
          "LBR",
          "BLZ",
          "CAF",
          "DJI",
          "CPV",
          "ATG",
          "TLS",
          "SYC",
          "LCA",
          "SLB",
          "GNB",
          "GRD",
          "GMB",
          "MNP",
          "KNA",
          "WSM",
          "VUT",
          "VCT",
          "ASM",
          "COM",
          "DMA",
          "TON",
          "STP",
          "FSM",
          "PLW",
          "MHL",
          "KIR",
          "NRU",
          "TUV"
         ],
         "marker": {
          "line": {
           "color": "rgb(255, 255, 255)",
           "width": 2
          }
         },
         "text": [
          "China",
          "Japan",
          "Germany",
          "United Kingdom",
          "France",
          "India",
          "Italy",
          "Brazil",
          "Canada",
          "Korea",
          "Russian Federation",
          "Spain",
          "Australia",
          "Mexico",
          "Indonesia",
          "Turkey",
          "Netherlands",
          "Switzerland",
          "Saudi Arabia",
          "Argentina",
          "Sweden",
          "Poland",
          "Belgium",
          "Thailand",
          "Nigeria",
          "Iran",
          "Austria",
          "Norway",
          "United Arab Emirates",
          "Egypt",
          "Hong Kong SAR",
          "Israel",
          "Denmark",
          "Philippines",
          "Singapore",
          "Malaysia",
          "South Africa",
          "Ireland",
          "Pakistan",
          "Colombia",
          "Chile",
          "Finland",
          "Bangladesh",
          "Portugal",
          "Vietnam",
          "Greece",
          "Czech Republic",
          "Peru",
          "Romania",
          "New Zealand",
          "Iraq",
          "Algeria",
          "Qatar",
          "Kazakhstan",
          "Hungary",
          "Kuwait",
          "Morocco",
          "Ecuador",
          "Sudan",
          "Ukraine",
          "Angola",
          "Slovak Republic",
          "Cuba",
          "Sri Lanka",
          "Ethiopia",
          "Dominican Republic",
          "Kenya",
          "Guatemala",
          "Myanmar",
          "Uzbekistan",
          "Oman",
          "Luxembourg",
          "Costa Rica",
          "Panama",
          "Uruguay",
          "Bulgaria",
          "Croatia",
          "Lebanon",
          "Belarus",
          "Tanzania",
          "Macao SAR",
          "Slovenia",
          "Lithuania",
          "Ghana",
          "Tunisia",
          "Jordan",
          "Azerbaijan",
          "Serbia",
          "Turkmenistan",
          "Côte d'Ivoire",
          "Congo",
          "Bolivia",
          "Bahrain",
          "Latvia",
          "Paraguay",
          "Yemen",
          "El Salvador",
          "Uganda",
          "Cameroon",
          "Estonia",
          "Honduras",
          "Nepal",
          "Trinidad and Tobago",
          "Iceland",
          "Cambodia",
          "Cyprus",
          "Zambia",
          "Afghanistan",
          "Papua New Guinea",
          "Bosnia and Herzegovina",
          "Zimbabwe",
          "Lao PDR",
          "Botswana",
          "Senegal",
          "Georgia",
          "Gabon",
          "Mali",
          "Jamaica",
          "West Bank and Gaza",
          "Nicaragua",
          "Mauritius",
          "Burkina Faso",
          "Albania",
          "Brunei Darussalam",
          "Mongolia",
          "Mozambique",
          "Malta",
          "Macedonia",
          "Armenia",
          "Namibia",
          "Equatorial Guinea",
          "Madagascar",
          "Chad",
          "Bahamas",
          "South Sudan",
          "Benin",
          "Rwanda",
          "Haiti",
          "Congo",
          "Niger",
          "Isle of Man",
          "Tajikistan",
          "Moldova",
          "Liechtenstein",
          "Kosovo",
          "Kyrgyz Republic",
          "Guinea",
          "Somalia",
          "Guam",
          "Malawi",
          "Mauritania",
          "Fiji",
          "Barbados",
          "Togo",
          "Montenegro",
          "Virgin Islands (U.S.)",
          "Swaziland",
          "Sierra Leone",
          "Suriname",
          "Maldives",
          "Guyana",
          "Burundi",
          "Bhutan",
          "Greenland",
          "Lesotho",
          "Liberia",
          "Belize",
          "Central African Republic",
          "Djibouti",
          "Cabo Verde",
          "Antigua and Barbuda",
          "Timor-Leste",
          "Seychelles",
          "St. Lucia",
          "Solomon Islands",
          "Guinea-Bissau",
          "Grenada",
          "Gambia",
          "Northern Mariana Islands",
          "St. Kitts and Nevis",
          "Samoa",
          "Vanuatu",
          "St. Vincent and the Grenadines",
          "American Samoa",
          "Comoros",
          "Dominica",
          "Tonga",
          "São Tomé and Principe",
          "Micronesia",
          "Palau",
          "Marshall Islands",
          "Kiribati",
          "Nauru",
          "Tuvalu"
         ],
         "type": "choropleth",
         "z": [
          2,
          3,
          4,
          5,
          6,
          7,
          8,
          9,
          10,
          11,
          12,
          13,
          14,
          15,
          16,
          17,
          18,
          19,
          20,
          21,
          22,
          23,
          24,
          25,
          26,
          27,
          28,
          29,
          30,
          31,
          32,
          33,
          34,
          35,
          36,
          37,
          38,
          39,
          40,
          41,
          42,
          43,
          44,
          45,
          46,
          47,
          48,
          49,
          50,
          51,
          52,
          53,
          54,
          55,
          56,
          57,
          58,
          59,
          60,
          61,
          62,
          63,
          64,
          65,
          66,
          67,
          68,
          69,
          70,
          71,
          72,
          73,
          74,
          75,
          76,
          77,
          78,
          79,
          80,
          81,
          82,
          83,
          84,
          85,
          86,
          87,
          88,
          89,
          90,
          91,
          92,
          93,
          94,
          95,
          96,
          97,
          98,
          99,
          100,
          101,
          102,
          103,
          104,
          105,
          106,
          107,
          108,
          109,
          110,
          111,
          112,
          113,
          114,
          115,
          116,
          117,
          118,
          119,
          120,
          121,
          122,
          123,
          124,
          125,
          126,
          127,
          128,
          129,
          130,
          131,
          132,
          133,
          134,
          135,
          136,
          137,
          138,
          139,
          140,
          141,
          142,
          143,
          144,
          145,
          146,
          147,
          148,
          149,
          150,
          151,
          152,
          153,
          154,
          155,
          156,
          157,
          158,
          159,
          160,
          161,
          162,
          163,
          164,
          165,
          166,
          167,
          168,
          169,
          170,
          171,
          172,
          173,
          174,
          175,
          176,
          177,
          178,
          179,
          180,
          181,
          182,
          183,
          184,
          185,
          186,
          187,
          188,
          189,
          190,
          191,
          192,
          193,
          194,
          195
         ]
        }
       ],
       "layout": {
        "geo": {
         "lakecolor": "rgb(25, 173, 240)",
         "scope": "world",
         "showlakes": true
        },
        "title": "World GDP"
       }
      },
      "text/html": [
       "<div id=\"523f9e27-d793-4985-b923-8246f8a7e1ce\" style=\"height: 525px; width: 100%;\" class=\"plotly-graph-div\"></div><script type=\"text/javascript\">require([\"plotly\"], function(Plotly) { window.PLOTLYENV=window.PLOTLYENV || {};window.PLOTLYENV.BASE_URL=\"https://plot.ly\";Plotly.newPlot(\"523f9e27-d793-4985-b923-8246f8a7e1ce\", [{\"type\": \"choropleth\", \"locations\": [\"CHN\", \"JPN\", \"DEU\", \"GBR\", \"FRA\", \"IND\", \"ITA\", \"BRA\", \"CAN\", \"KOR\", \"RUS\", \"ESP\", \"AUS\", \"MEX\", \"IDN\", \"TUR\", \"NLD\", \"CHE\", \"SAU\", \"ARG\", \"SWE\", \"POL\", \"BEL\", \"THA\", \"NGA\", \"IRN\", \"AUT\", \"NOR\", \"ARE\", \"EGY\", \"HKG\", \"ISR\", \"DNK\", \"PHL\", \"SGP\", \"MYS\", \"ZAF\", \"IRL\", \"PAK\", \"COL\", \"CHL\", \"FIN\", \"BGD\", \"PRT\", \"VNM\", \"GRC\", \"CZE\", \"PER\", \"ROU\", \"NZL\", \"IRQ\", \"DZA\", \"QAT\", \"KAZ\", \"HUN\", \"KWT\", \"MAR\", \"ECU\", \"SDN\", \"UKR\", \"AGO\", \"SVK\", \"CUB\", \"LKA\", \"ETH\", \"DOM\", \"KEN\", \"GTM\", \"MMR\", \"UZB\", \"OMN\", \"LUX\", \"CRI\", \"PAN\", \"URY\", \"BGR\", \"HRV\", \"LBN\", \"BLR\", \"TZA\", \"MAC\", \"SVN\", \"LTU\", \"GHA\", \"TUN\", \"JOR\", \"AZE\", \"SRB\", \"TKM\", \"CIV\", \"COD\", \"BOL\", \"BHR\", \"LVA\", \"PRY\", \"YEM\", \"SLV\", \"UGA\", \"CMR\", \"EST\", \"HND\", \"NPL\", \"TTO\", \"ISL\", \"KHM\", \"CYP\", \"ZMB\", \"AFG\", \"PNG\", \"BIH\", \"ZWE\", \"LAO\", \"BWA\", \"SEN\", \"GEO\", \"GAB\", \"MLI\", \"JAM\", \"PSE\", \"NIC\", \"MUS\", \"BFA\", \"ALB\", \"BRN\", \"MNG\", \"MOZ\", \"MLT\", \"MKD\", \"ARM\", \"NAM\", \"GNQ\", \"MDG\", \"TCD\", \"BHS\", \"SSD\", \"BEN\", \"RWA\", \"HTI\", \"COG\", \"NER\", \"IMN\", \"TJK\", \"MDA\", \"LIE\", \"XKX\", \"KGZ\", \"GIN\", \"SOM\", \"GUM\", \"MWI\", \"MRT\", \"FJI\", \"BRB\", \"TGO\", \"MNE\", \"VIR\", \"SWZ\", \"SLE\", \"SUR\", \"MDV\", \"GUY\", \"BDI\", \"BTN\", \"GRL\", \"LSO\", \"LBR\", \"BLZ\", \"CAF\", \"DJI\", \"CPV\", \"ATG\", \"TLS\", \"SYC\", \"LCA\", \"SLB\", \"GNB\", \"GRD\", \"GMB\", \"MNP\", \"KNA\", \"WSM\", \"VUT\", \"VCT\", \"ASM\", \"COM\", \"DMA\", \"TON\", \"STP\", \"FSM\", \"PLW\", \"MHL\", \"KIR\", \"NRU\", \"TUV\"], \"locationmode\": \"world map\", \"colorscale\": \"Viridis\", \"text\": [\"China\", \"Japan\", \"Germany\", \"United Kingdom\", \"France\", \"India\", \"Italy\", \"Brazil\", \"Canada\", \"Korea\", \"Russian Federation\", \"Spain\", \"Australia\", \"Mexico\", \"Indonesia\", \"Turkey\", \"Netherlands\", \"Switzerland\", \"Saudi Arabia\", \"Argentina\", \"Sweden\", \"Poland\", \"Belgium\", \"Thailand\", \"Nigeria\", \"Iran\", \"Austria\", \"Norway\", \"United Arab Emirates\", \"Egypt\", \"Hong Kong SAR\", \"Israel\", \"Denmark\", \"Philippines\", \"Singapore\", \"Malaysia\", \"South Africa\", \"Ireland\", \"Pakistan\", \"Colombia\", \"Chile\", \"Finland\", \"Bangladesh\", \"Portugal\", \"Vietnam\", \"Greece\", \"Czech Republic\", \"Peru\", \"Romania\", \"New Zealand\", \"Iraq\", \"Algeria\", \"Qatar\", \"Kazakhstan\", \"Hungary\", \"Kuwait\", \"Morocco\", \"Ecuador\", \"Sudan\", \"Ukraine\", \"Angola\", \"Slovak Republic\", \"Cuba\", \"Sri Lanka\", \"Ethiopia\", \"Dominican Republic\", \"Kenya\", \"Guatemala\", \"Myanmar\", \"Uzbekistan\", \"Oman\", \"Luxembourg\", \"Costa Rica\", \"Panama\", \"Uruguay\", \"Bulgaria\", \"Croatia\", \"Lebanon\", \"Belarus\", \"Tanzania\", \"Macao SAR\", \"Slovenia\", \"Lithuania\", \"Ghana\", \"Tunisia\", \"Jordan\", \"Azerbaijan\", \"Serbia\", \"Turkmenistan\", \"C\\u00f4te d'Ivoire\", \"Congo\", \"Bolivia\", \"Bahrain\", \"Latvia\", \"Paraguay\", \"Yemen\", \"El Salvador\", \"Uganda\", \"Cameroon\", \"Estonia\", \"Honduras\", \"Nepal\", \"Trinidad and Tobago\", \"Iceland\", \"Cambodia\", \"Cyprus\", \"Zambia\", \"Afghanistan\", \"Papua New Guinea\", \"Bosnia and Herzegovina\", \"Zimbabwe\", \"Lao PDR\", \"Botswana\", \"Senegal\", \"Georgia\", \"Gabon\", \"Mali\", \"Jamaica\", \"West Bank and Gaza\", \"Nicaragua\", \"Mauritius\", \"Burkina Faso\", \"Albania\", \"Brunei Darussalam\", \"Mongolia\", \"Mozambique\", \"Malta\", \"Macedonia\", \"Armenia\", \"Namibia\", \"Equatorial Guinea\", \"Madagascar\", \"Chad\", \"Bahamas\", \"South Sudan\", \"Benin\", \"Rwanda\", \"Haiti\", \"Congo\", \"Niger\", \"Isle of Man\", \"Tajikistan\", \"Moldova\", \"Liechtenstein\", \"Kosovo\", \"Kyrgyz Republic\", \"Guinea\", \"Somalia\", \"Guam\", \"Malawi\", \"Mauritania\", \"Fiji\", \"Barbados\", \"Togo\", \"Montenegro\", \"Virgin Islands (U.S.)\", \"Swaziland\", \"Sierra Leone\", \"Suriname\", \"Maldives\", \"Guyana\", \"Burundi\", \"Bhutan\", \"Greenland\", \"Lesotho\", \"Liberia\", \"Belize\", \"Central African Republic\", \"Djibouti\", \"Cabo Verde\", \"Antigua and Barbuda\", \"Timor-Leste\", \"Seychelles\", \"St. Lucia\", \"Solomon Islands\", \"Guinea-Bissau\", \"Grenada\", \"Gambia\", \"Northern Mariana Islands\", \"St. Kitts and Nevis\", \"Samoa\", \"Vanuatu\", \"St. Vincent and the Grenadines\", \"American Samoa\", \"Comoros\", \"Dominica\", \"Tonga\", \"S\\u00e3o Tom\\u00e9 and Principe\", \"Micronesia\", \"Palau\", \"Marshall Islands\", \"Kiribati\", \"Nauru\", \"Tuvalu\"], \"z\": [2, 3, 4, 5, 6, 7, 8, 9, 10, 11, 12, 13, 14, 15, 16, 17, 18, 19, 20, 21, 22, 23, 24, 25, 26, 27, 28, 29, 30, 31, 32, 33, 34, 35, 36, 37, 38, 39, 40, 41, 42, 43, 44, 45, 46, 47, 48, 49, 50, 51, 52, 53, 54, 55, 56, 57, 58, 59, 60, 61, 62, 63, 64, 65, 66, 67, 68, 69, 70, 71, 72, 73, 74, 75, 76, 77, 78, 79, 80, 81, 82, 83, 84, 85, 86, 87, 88, 89, 90, 91, 92, 93, 94, 95, 96, 97, 98, 99, 100, 101, 102, 103, 104, 105, 106, 107, 108, 109, 110, 111, 112, 113, 114, 115, 116, 117, 118, 119, 120, 121, 122, 123, 124, 125, 126, 127, 128, 129, 130, 131, 132, 133, 134, 135, 136, 137, 138, 139, 140, 141, 142, 143, 144, 145, 146, 147, 148, 149, 150, 151, 152, 153, 154, 155, 156, 157, 158, 159, 160, 161, 162, 163, 164, 165, 166, 167, 168, 169, 170, 171, 172, 173, 174, 175, 176, 177, 178, 179, 180, 181, 182, 183, 184, 185, 186, 187, 188, 189, 190, 191, 192, 193, 194, 195], \"colorbar\": {\"title\": \"World GDP\"}, \"marker\": {\"line\": {\"color\": \"rgb(255, 255, 255)\", \"width\": 2}}}], {\"title\": \"World GDP\", \"geo\": {\"scope\": \"world\", \"showlakes\": true, \"lakecolor\": \"rgb(25, 173, 240)\"}}, {\"showLink\": true, \"linkText\": \"Export to plot.ly\"})});</script>"
      ],
      "text/vnd.plotly.v1+html": [
       "<div id=\"523f9e27-d793-4985-b923-8246f8a7e1ce\" style=\"height: 525px; width: 100%;\" class=\"plotly-graph-div\"></div><script type=\"text/javascript\">require([\"plotly\"], function(Plotly) { window.PLOTLYENV=window.PLOTLYENV || {};window.PLOTLYENV.BASE_URL=\"https://plot.ly\";Plotly.newPlot(\"523f9e27-d793-4985-b923-8246f8a7e1ce\", [{\"type\": \"choropleth\", \"locations\": [\"CHN\", \"JPN\", \"DEU\", \"GBR\", \"FRA\", \"IND\", \"ITA\", \"BRA\", \"CAN\", \"KOR\", \"RUS\", \"ESP\", \"AUS\", \"MEX\", \"IDN\", \"TUR\", \"NLD\", \"CHE\", \"SAU\", \"ARG\", \"SWE\", \"POL\", \"BEL\", \"THA\", \"NGA\", \"IRN\", \"AUT\", \"NOR\", \"ARE\", \"EGY\", \"HKG\", \"ISR\", \"DNK\", \"PHL\", \"SGP\", \"MYS\", \"ZAF\", \"IRL\", \"PAK\", \"COL\", \"CHL\", \"FIN\", \"BGD\", \"PRT\", \"VNM\", \"GRC\", \"CZE\", \"PER\", \"ROU\", \"NZL\", \"IRQ\", \"DZA\", \"QAT\", \"KAZ\", \"HUN\", \"KWT\", \"MAR\", \"ECU\", \"SDN\", \"UKR\", \"AGO\", \"SVK\", \"CUB\", \"LKA\", \"ETH\", \"DOM\", \"KEN\", \"GTM\", \"MMR\", \"UZB\", \"OMN\", \"LUX\", \"CRI\", \"PAN\", \"URY\", \"BGR\", \"HRV\", \"LBN\", \"BLR\", \"TZA\", \"MAC\", \"SVN\", \"LTU\", \"GHA\", \"TUN\", \"JOR\", \"AZE\", \"SRB\", \"TKM\", \"CIV\", \"COD\", \"BOL\", \"BHR\", \"LVA\", \"PRY\", \"YEM\", \"SLV\", \"UGA\", \"CMR\", \"EST\", \"HND\", \"NPL\", \"TTO\", \"ISL\", \"KHM\", \"CYP\", \"ZMB\", \"AFG\", \"PNG\", \"BIH\", \"ZWE\", \"LAO\", \"BWA\", \"SEN\", \"GEO\", \"GAB\", \"MLI\", \"JAM\", \"PSE\", \"NIC\", \"MUS\", \"BFA\", \"ALB\", \"BRN\", \"MNG\", \"MOZ\", \"MLT\", \"MKD\", \"ARM\", \"NAM\", \"GNQ\", \"MDG\", \"TCD\", \"BHS\", \"SSD\", \"BEN\", \"RWA\", \"HTI\", \"COG\", \"NER\", \"IMN\", \"TJK\", \"MDA\", \"LIE\", \"XKX\", \"KGZ\", \"GIN\", \"SOM\", \"GUM\", \"MWI\", \"MRT\", \"FJI\", \"BRB\", \"TGO\", \"MNE\", \"VIR\", \"SWZ\", \"SLE\", \"SUR\", \"MDV\", \"GUY\", \"BDI\", \"BTN\", \"GRL\", \"LSO\", \"LBR\", \"BLZ\", \"CAF\", \"DJI\", \"CPV\", \"ATG\", \"TLS\", \"SYC\", \"LCA\", \"SLB\", \"GNB\", \"GRD\", \"GMB\", \"MNP\", \"KNA\", \"WSM\", \"VUT\", \"VCT\", \"ASM\", \"COM\", \"DMA\", \"TON\", \"STP\", \"FSM\", \"PLW\", \"MHL\", \"KIR\", \"NRU\", \"TUV\"], \"locationmode\": \"world map\", \"colorscale\": \"Viridis\", \"text\": [\"China\", \"Japan\", \"Germany\", \"United Kingdom\", \"France\", \"India\", \"Italy\", \"Brazil\", \"Canada\", \"Korea\", \"Russian Federation\", \"Spain\", \"Australia\", \"Mexico\", \"Indonesia\", \"Turkey\", \"Netherlands\", \"Switzerland\", \"Saudi Arabia\", \"Argentina\", \"Sweden\", \"Poland\", \"Belgium\", \"Thailand\", \"Nigeria\", \"Iran\", \"Austria\", \"Norway\", \"United Arab Emirates\", \"Egypt\", \"Hong Kong SAR\", \"Israel\", \"Denmark\", \"Philippines\", \"Singapore\", \"Malaysia\", \"South Africa\", \"Ireland\", \"Pakistan\", \"Colombia\", \"Chile\", \"Finland\", \"Bangladesh\", \"Portugal\", \"Vietnam\", \"Greece\", \"Czech Republic\", \"Peru\", \"Romania\", \"New Zealand\", \"Iraq\", \"Algeria\", \"Qatar\", \"Kazakhstan\", \"Hungary\", \"Kuwait\", \"Morocco\", \"Ecuador\", \"Sudan\", \"Ukraine\", \"Angola\", \"Slovak Republic\", \"Cuba\", \"Sri Lanka\", \"Ethiopia\", \"Dominican Republic\", \"Kenya\", \"Guatemala\", \"Myanmar\", \"Uzbekistan\", \"Oman\", \"Luxembourg\", \"Costa Rica\", \"Panama\", \"Uruguay\", \"Bulgaria\", \"Croatia\", \"Lebanon\", \"Belarus\", \"Tanzania\", \"Macao SAR\", \"Slovenia\", \"Lithuania\", \"Ghana\", \"Tunisia\", \"Jordan\", \"Azerbaijan\", \"Serbia\", \"Turkmenistan\", \"C\\u00f4te d'Ivoire\", \"Congo\", \"Bolivia\", \"Bahrain\", \"Latvia\", \"Paraguay\", \"Yemen\", \"El Salvador\", \"Uganda\", \"Cameroon\", \"Estonia\", \"Honduras\", \"Nepal\", \"Trinidad and Tobago\", \"Iceland\", \"Cambodia\", \"Cyprus\", \"Zambia\", \"Afghanistan\", \"Papua New Guinea\", \"Bosnia and Herzegovina\", \"Zimbabwe\", \"Lao PDR\", \"Botswana\", \"Senegal\", \"Georgia\", \"Gabon\", \"Mali\", \"Jamaica\", \"West Bank and Gaza\", \"Nicaragua\", \"Mauritius\", \"Burkina Faso\", \"Albania\", \"Brunei Darussalam\", \"Mongolia\", \"Mozambique\", \"Malta\", \"Macedonia\", \"Armenia\", \"Namibia\", \"Equatorial Guinea\", \"Madagascar\", \"Chad\", \"Bahamas\", \"South Sudan\", \"Benin\", \"Rwanda\", \"Haiti\", \"Congo\", \"Niger\", \"Isle of Man\", \"Tajikistan\", \"Moldova\", \"Liechtenstein\", \"Kosovo\", \"Kyrgyz Republic\", \"Guinea\", \"Somalia\", \"Guam\", \"Malawi\", \"Mauritania\", \"Fiji\", \"Barbados\", \"Togo\", \"Montenegro\", \"Virgin Islands (U.S.)\", \"Swaziland\", \"Sierra Leone\", \"Suriname\", \"Maldives\", \"Guyana\", \"Burundi\", \"Bhutan\", \"Greenland\", \"Lesotho\", \"Liberia\", \"Belize\", \"Central African Republic\", \"Djibouti\", \"Cabo Verde\", \"Antigua and Barbuda\", \"Timor-Leste\", \"Seychelles\", \"St. Lucia\", \"Solomon Islands\", \"Guinea-Bissau\", \"Grenada\", \"Gambia\", \"Northern Mariana Islands\", \"St. Kitts and Nevis\", \"Samoa\", \"Vanuatu\", \"St. Vincent and the Grenadines\", \"American Samoa\", \"Comoros\", \"Dominica\", \"Tonga\", \"S\\u00e3o Tom\\u00e9 and Principe\", \"Micronesia\", \"Palau\", \"Marshall Islands\", \"Kiribati\", \"Nauru\", \"Tuvalu\"], \"z\": [2, 3, 4, 5, 6, 7, 8, 9, 10, 11, 12, 13, 14, 15, 16, 17, 18, 19, 20, 21, 22, 23, 24, 25, 26, 27, 28, 29, 30, 31, 32, 33, 34, 35, 36, 37, 38, 39, 40, 41, 42, 43, 44, 45, 46, 47, 48, 49, 50, 51, 52, 53, 54, 55, 56, 57, 58, 59, 60, 61, 62, 63, 64, 65, 66, 67, 68, 69, 70, 71, 72, 73, 74, 75, 76, 77, 78, 79, 80, 81, 82, 83, 84, 85, 86, 87, 88, 89, 90, 91, 92, 93, 94, 95, 96, 97, 98, 99, 100, 101, 102, 103, 104, 105, 106, 107, 108, 109, 110, 111, 112, 113, 114, 115, 116, 117, 118, 119, 120, 121, 122, 123, 124, 125, 126, 127, 128, 129, 130, 131, 132, 133, 134, 135, 136, 137, 138, 139, 140, 141, 142, 143, 144, 145, 146, 147, 148, 149, 150, 151, 152, 153, 154, 155, 156, 157, 158, 159, 160, 161, 162, 163, 164, 165, 166, 167, 168, 169, 170, 171, 172, 173, 174, 175, 176, 177, 178, 179, 180, 181, 182, 183, 184, 185, 186, 187, 188, 189, 190, 191, 192, 193, 194, 195], \"colorbar\": {\"title\": \"World GDP\"}, \"marker\": {\"line\": {\"color\": \"rgb(255, 255, 255)\", \"width\": 2}}}], {\"title\": \"World GDP\", \"geo\": {\"scope\": \"world\", \"showlakes\": true, \"lakecolor\": \"rgb(25, 173, 240)\"}}, {\"showLink\": true, \"linkText\": \"Export to plot.ly\"})});</script>"
      ]
     },
     "metadata": {},
     "output_type": "display_data"
    }
   ],
   "source": [
    "choromap = go.Figure(data=[data], layout=layout)\n",
    "iplot(choromap, validate=False)"
   ]
  }
 ],
 "metadata": {
  "kernelspec": {
   "display_name": "Python 3",
   "language": "python",
   "name": "python3"
  },
  "language_info": {
   "codemirror_mode": {
    "name": "ipython",
    "version": 3
   },
   "file_extension": ".py",
   "mimetype": "text/x-python",
   "name": "python",
   "nbconvert_exporter": "python",
   "pygments_lexer": "ipython3",
   "version": "3.6.0"
  }
 },
 "nbformat": 4,
 "nbformat_minor": 2
}
