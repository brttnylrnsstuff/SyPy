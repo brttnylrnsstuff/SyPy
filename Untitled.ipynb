{
 "cells": [
  {
   "cell_type": "code",
   "execution_count": 89,
   "metadata": {},
   "outputs": [],
   "source": [
    "import requests\n",
    "from bs4 import BeautifulSoup\n",
    "from lxml import html\n",
    "import lxml\n",
    "\n",
    "url = \"https://jobcard.zensar.com/eJobCard/\";\n",
    "# url = 'http://www.ucop.edu/operating-budget/budgets-and-reports/legislative-reports/2013-14-legislative-session.html';"
   ]
  },
  {
   "cell_type": "code",
   "execution_count": 90,
   "metadata": {},
   "outputs": [
    {
     "name": "stdout",
     "output_type": "stream",
     "text": [
      "<Response [200]>\n"
     ]
    }
   ],
   "source": [
    "s = requests.session()\n",
    "response = s.get(url) \n",
    "print(response)"
   ]
  },
  {
   "cell_type": "code",
   "execution_count": 84,
   "metadata": {},
   "outputs": [],
   "source": [
    "params = {'username': 'ms47807', 'password': 'Logi!2010'}"
   ]
  },
  {
   "cell_type": "code",
   "execution_count": 94,
   "metadata": {},
   "outputs": [
    {
     "name": "stdout",
     "output_type": "stream",
     "text": [
      "<Response [200]>\n"
     ]
    }
   ],
   "source": [
    "session = requests.session()\n",
    "login = session.get(url, params=params)\n",
    "print(login)\n",
    "\n",
    "login_html = lxml.html.fromstring(login.text)"
   ]
  },
  {
   "cell_type": "code",
   "execution_count": 115,
   "metadata": {},
   "outputs": [
    {
     "ename": "TypeError",
     "evalue": "list indices must be integers or slices, not str",
     "output_type": "error",
     "traceback": [
      "\u001b[1;31m---------------------------------------------------------------------------\u001b[0m",
      "\u001b[1;31mTypeError\u001b[0m                                 Traceback (most recent call last)",
      "\u001b[1;32m<ipython-input-115-546698061c1d>\u001b[0m in \u001b[0;36m<module>\u001b[1;34m()\u001b[0m\n\u001b[0;32m      1\u001b[0m \u001b[0msession\u001b[0m\u001b[1;33m.\u001b[0m\u001b[0mpost\u001b[0m\u001b[1;33m(\u001b[0m\u001b[0murl\u001b[0m\u001b[1;33m,\u001b[0m \u001b[0mparams\u001b[0m\u001b[1;33m=\u001b[0m\u001b[0mparams\u001b[0m\u001b[1;33m)\u001b[0m\u001b[1;33m\u001b[0m\u001b[0m\n\u001b[0;32m      2\u001b[0m \u001b[0mform\u001b[0m \u001b[1;33m=\u001b[0m \u001b[1;33m[\u001b[0m\u001b[1;33m]\u001b[0m\u001b[1;33m\u001b[0m\u001b[0m\n\u001b[1;32m----> 3\u001b[1;33m \u001b[0mform\u001b[0m\u001b[1;33m[\u001b[0m\u001b[1;34m'username'\u001b[0m\u001b[1;33m]\u001b[0m \u001b[1;33m=\u001b[0m \u001b[1;34m'ms47807'\u001b[0m\u001b[1;33m\u001b[0m\u001b[0m\n\u001b[0m\u001b[0;32m      4\u001b[0m \u001b[0mform\u001b[0m\u001b[1;33m[\u001b[0m\u001b[1;34m'password'\u001b[0m\u001b[1;33m]\u001b[0m \u001b[1;33m=\u001b[0m \u001b[1;34m'Logi!2010'\u001b[0m\u001b[1;33m\u001b[0m\u001b[0m\n",
      "\u001b[1;31mTypeError\u001b[0m: list indices must be integers or slices, not str"
     ]
    }
   ],
   "source": [
    "session.post(url, params=params)\n",
    "form = []\n",
    "form['username'] = 'ms47807'\n",
    "form['password'] = 'Logi!2010'"
   ]
  },
  {
   "cell_type": "code",
   "execution_count": 93,
   "metadata": {},
   "outputs": [],
   "source": [
    "att_url=\"https://jobcard.zensar.com/eJobCard/monthlyAttendanceReportAction.do?method=getMonthlyAttendance\"\n"
   ]
  },
  {
   "cell_type": "code",
   "execution_count": 78,
   "metadata": {},
   "outputs": [
    {
     "name": "stdout",
     "output_type": "stream",
     "text": [
      "b'<!DOCTYPE html PUBLIC \"-//W3C//DTD XHTML 1.0 Transitional//EN\" \"http://www.w3.org/TR/xhtml1/DTD/xhtml1-transitional.dtd\">\\r\\n\\r\\n\\r\\n \\r\\n \\r\\n \\r\\n\\r\\n\\r\\n\\r\\n<html lang=\"en\">\\r\\n  <head>\\r\\n    <meta charset=\"utf-8\">\\r\\n    <meta http-equiv=\"X-UA-Compatible\" content=\"IE=edge\">\\r\\n    <meta name=\"viewport\" content=\"width=device-width, initial-scale=1\">\\r\\n    <meta name=\"description\" content=\"\">\\r\\n    <meta name=\"author\" content=\"\">\\r\\n    <link rel=\"shortcut icon\" href=\"ico/favicon.ico\">\\r\\n\\r\\n    <title>JobCard - Session Expired</title>\\r\\n\\r\\n    <!-- Bootstrap core CSS -->\\r\\n    <link href=\"pages/css/bootstrap.css\" rel=\"stylesheet\">\\r\\n\\r\\n    <!-- Custom styles for this template -->\\r\\n    <link href=\"pages/css/dashboard.css\" rel=\"stylesheet\">\\r\\n    <link href=\"pages/css/sticky-footer.css\" rel=\"stylesheet\">\\r\\n\\r\\n<!--code inserted to handle ajax session expired issue-Remya-->\\r\\n<!-- ***************** -->\\r\\n <!-- Bootstrap core CSS -->\\r\\n    <link href=\"css/bootstrap.css\" rel=\"stylesheet\">\\r\\n    <!-- Custom styles for this template -->\\r\\n    <link href=\"css/dashboard.css\" rel=\"stylesheet\">\\r\\n    <link href=\"css/sticky-footer.css\" rel=\"stylesheet\">\\r\\n    \\r\\n<!-- ************************ -->    \\r\\n\\r\\n\\r\\n    <!-- Just for debugging purposes. Don\\'t actually copy this line! -->\\r\\n    <!--[if lt IE 9]><script src=\"js/ie8-responsive-file-warning.js\"></script><![endif]-->\\r\\n\\r\\n    <!-- HTML5 shim and Respond.js IE8 support of HTML5 elements and media queries -->\\r\\n    <!--[if lt IE 9]>\\r\\n      <script src=\"js/html5shiv.js\"></script>\\r\\n      <script src=\"js/respond.min.js\"></script>\\r\\n    <![endif]-->\\r\\n   <style type=\"text/css\">\\r\\n   .jc-logo { margin-top: 15px; }\\r\\n   .zensar-logo { margin-top: 10px; }\\r\\n   .navbar { min-height: 90px; }\\r\\n   \\r\\n   </style>\\r\\n    \\r\\n\\r\\n  </head>\\r\\n\\r\\n  <body>\\r\\n\\r\\n    <div class=\"navbar one-edge-shadow \" role=\"navigation\">\\r\\n      <div class=\"container-fluid\">\\r\\n        <div class=\"navbar-header\">\\r\\n        \\t<a class=\"navbar-brand jc-logo\" href=\"#\"></a>\\r\\n        \\t<a class=\"navbar-brand zensar-logo pull-right\" href=\"#\"></a>\\r\\n        </div>\\r\\n      </div>\\r\\n    </div>\\r\\n    \\r\\n    \\r\\n    <div class=\"pattern\">\\r\\n\\r\\n    <div class=\"container-fluid\">\\r\\n      <div class=\"row\">\\r\\n        <div class=\"col-sm-11 col-md-11 main allsides\">\\r\\n         <!--<h1 class=\"page-header\">project allocation overview</h1>-->\\r\\n\\r\\n\\r\\n        <h3 align=\"center\" style=\"color:#488b81;\">Session Expired</h3>\\r\\n        <div class=\"clearfix10\"></div>\\r\\n        <h4 align=\"center\">Please click the below links to login again</h4>\\r\\n        \\r\\n        <div class=\"clearfix10\"></div>\\r\\n        <div class=\"logoutblock\">\\r\\n     <!--    <div class=\"pull-left allsides\"><a href=\"http://jobcard\" title=\"Please click here for login again \">Login Again [Intranet]</a></div> -->\\r\\n        <div class=\"pull-center allsides\"><a href=\"http://jobcard.zensar.com\" title=\"Please click here for login again \">Login Again</a></div>\\r\\n        </div>\\r\\n          \\r\\n          \\r\\n        <div class=\"clearfix10\"></div>\\r\\n        \\r\\n\\r\\n          </div>\\r\\n          <div class=\"clearfix\"></div>\\r\\n        </div> \\r\\n      </div>  <!-- / row -->\\r\\n      <hr>\\r\\n    </div> <!-- / container-fluid -->\\r\\n\\t\\r\\n    \\r\\n    </div> <!-- endof pattern -->\\r\\n    \\r\\n       \\r\\n\\t<div id=\"footer\">\\r\\n\\t\\t<div class=\"container\">\\r\\n\\t\\t\\t<p class=\"text-muted\">@ Zensar 2015  eJobCard Version 2.6 <br>\\r\\n\\t\\t\\t\\t<span>Works best with Google Chrome 37.0, Firefox 30, Internet Explorer 10.0 and above</span></p>\\r\\n\\t\\t\\t\\t\\r\\n\\t\\t</div>\\r\\n\\t</div>\\r\\n<!-- <script>\\r\\n$(document).ready(function () { \\r\\n\\t$(\"#approvalStatus\").attr(\"size\",$(\"#approvalStatus option\").length); \\r\\n});\\r\\n</script> -->\\r\\n\\r\\n\\r\\n        <!-- Bootstrap core JavaScript\\r\\n    ================================================== -->\\r\\n    <!-- Placed at the end of the document so the pages load faster -->\\r\\n\\r\\n    \\r\\n<script src=\"pages/js/jquery.min.js\"></script> \\r\\n<script src=\"pages/js/bootstrap.min.js\"></script>\\r\\n<script src=\"pages/js/docs.min.js\"></script>\\r\\n<script type=\"text/javascript\" src=\"pages/js/moment.js\"></script>\\r\\n\\r\\n<!-- code inserted to handle ajax session expired issue-Remya -->\\r\\n <!-- **************** -->\\r\\n<script src=\"js/jquery.min.js\"></script> \\r\\n<script src=\"js/bootstrap.min.js\"></script>\\r\\n<script src=\"js/docs.min.js\"></script>\\r\\n<script type=\"text/javascript\" src=\"js/moment.js\"></script>\\r\\n<!-- ************ -->\\r\\n\\r\\n  </body>\\r\\n</html>'\n"
     ]
    }
   ],
   "source": [
    "result = requests.get(att_url)\n",
    "c = result.content\n",
    "print(c)\n",
    "\n",
    "# Set as Beautiful Soup Object\n",
    "soup = BeautifulSoup(c, \"lxml\")"
   ]
  },
  {
   "cell_type": "code",
   "execution_count": 88,
   "metadata": {},
   "outputs": [
    {
     "name": "stdout",
     "output_type": "stream",
     "text": [
      "[<title>JobCard - Session Expired</title>]\n"
     ]
    }
   ],
   "source": [
    "print(soup.find_all(\"title\"))"
   ]
  },
  {
   "cell_type": "code",
   "execution_count": 79,
   "metadata": {},
   "outputs": [],
   "source": [
    "summary = soup.find(\"table\",{'class':'table-responsive attendanceData'})"
   ]
  },
  {
   "cell_type": "code",
   "execution_count": 80,
   "metadata": {},
   "outputs": [
    {
     "name": "stdout",
     "output_type": "stream",
     "text": [
      "None\n"
     ]
    }
   ],
   "source": [
    "print(summary)"
   ]
  }
 ],
 "metadata": {
  "kernelspec": {
   "display_name": "Python 3",
   "language": "python",
   "name": "python3"
  },
  "language_info": {
   "codemirror_mode": {
    "name": "ipython",
    "version": 3
   },
   "file_extension": ".py",
   "mimetype": "text/x-python",
   "name": "python",
   "nbconvert_exporter": "python",
   "pygments_lexer": "ipython3",
   "version": "3.6.0"
  }
 },
 "nbformat": 4,
 "nbformat_minor": 2
}
