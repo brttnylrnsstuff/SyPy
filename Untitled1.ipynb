{
 "cells": [
  {
   "cell_type": "code",
   "execution_count": 17,
   "metadata": {},
   "outputs": [
    {
     "name": "stdout",
     "output_type": "stream",
     "text": [
      "116\n",
      "116\n",
      "117\n",
      "119\n",
      "122\n",
      "126\n",
      "131\n",
      "137\n",
      "144\n",
      "152\n"
     ]
    }
   ],
   "source": [
    "def recfunc(n):\n",
    "    if n == 0:\n",
    "        return 0;\n",
    "    else:\n",
    "        return n-1;\n",
    "    \n",
    "    sum = 0;\n",
    "for i in range(10):\n",
    "    sum = sum + recfunc(i)\n",
    "    print(sum)"
   ]
  },
  {
   "cell_type": "code",
   "execution_count": null,
   "metadata": {
    "collapsed": true
   },
   "outputs": [],
   "source": []
  },
  {
   "cell_type": "code",
   "execution_count": null,
   "metadata": {
    "collapsed": true
   },
   "outputs": [],
   "source": []
  }
 ],
 "metadata": {
  "kernelspec": {
   "display_name": "Python 3",
   "language": "python",
   "name": "python3"
  },
  "language_info": {
   "codemirror_mode": {
    "name": "ipython",
    "version": 3
   },
   "file_extension": ".py",
   "mimetype": "text/x-python",
   "name": "python",
   "nbconvert_exporter": "python",
   "pygments_lexer": "ipython3",
   "version": "3.6.1"
  }
 },
 "nbformat": 4,
 "nbformat_minor": 2
}
